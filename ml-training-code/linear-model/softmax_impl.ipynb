{
 "cells": [
  {
   "cell_type": "code",
   "execution_count": 43,
   "metadata": {},
   "outputs": [],
   "source": [
    "\n",
    "%matplotlib inline\n",
    "import torch \n",
    "import torchvision\n",
    "from IPython import display\n",
    "from d2l import torch as d2l\n",
    "from torch.utils import data\n",
    "from torchvision import transforms"
   ]
  },
  {
   "cell_type": "code",
   "execution_count": 44,
   "metadata": {},
   "outputs": [],
   "source": [
    "def get_dataloader_workers():\n",
    "    return 4\n",
    "\n",
    "def load_data_fashion_mnist(batch_size, resize=None):\n",
    "    \"\"\"下载Fashion-MNIST数据集，然后将其加载到内存中\"\"\"\n",
    "    trans = [transforms.ToTensor()]\n",
    "    if resize:\n",
    "        trans.insert(0, transforms.Resize(resize))\n",
    "    trans = transforms.Compose(trans)\n",
    "    mnist_train = torchvision.datasets.FashionMNIST(\n",
    "    root=\"../data\", train=True, transform=trans, download=True)\n",
    "    mnist_test = torchvision.datasets.FashionMNIST(\n",
    "    root=\"../data\", train=False, transform=trans, download=True)\n",
    "    return (data.DataLoader(mnist_train, batch_size, shuffle=True,\n",
    "    num_workers=get_dataloader_workers()),\n",
    "    data.DataLoader(mnist_test, batch_size, shuffle=False,\n",
    "    num_workers=get_dataloader_workers()))"
   ]
  },
  {
   "cell_type": "code",
   "execution_count": 45,
   "metadata": {},
   "outputs": [],
   "source": [
    "batch_size = 256\n",
    "train_iter, test_iter = load_data_fashion_mnist(batch_size)\n",
    "\n",
    "\n",
    "num_input=784\n",
    "num_output = 10\n",
    "\n",
    "\n",
    "w = torch.normal(0,0.01, (num_input, num_output), requires_grad=True)\n",
    "b = torch.zeros(num_output, requires_grad=True)"
   ]
  },
  {
   "cell_type": "code",
   "execution_count": 46,
   "metadata": {},
   "outputs": [],
   "source": [
    "def softmax(X):\n",
    "    X_exp =torch.exp(X)\n",
    "    partition = X_exp.sum(1, keepdim=True)\n",
    "    return X_exp/partition "
   ]
  },
  {
   "cell_type": "code",
   "execution_count": 56,
   "metadata": {},
   "outputs": [],
   "source": [
    "## define model\n",
    "\n",
    "def net(X):\n",
    "    return softmax(X.reshape((-1, w.shape[0]))@w+ b)"
   ]
  },
  {
   "cell_type": "code",
   "execution_count": 57,
   "metadata": {},
   "outputs": [
    {
     "data": {
      "text/plain": [
       "tensor([0.1000, 0.5000])"
      ]
     },
     "execution_count": 57,
     "metadata": {},
     "output_type": "execute_result"
    }
   ],
   "source": [
    "\n",
    "# label, \n",
    "y = torch.tensor([0,2])\n",
    "# predictions, we have 3 cats and 2 predictions results for two requests\n",
    "y_hat = torch.tensor([[0.1, 0.3,0.6], [0.3,0.2, 0.5]])\n",
    "\n",
    "\n",
    "# [[0,1], [0,2]]--> [[0,0],[1,2]], 1st element is [0,1], 2nd element is [1,2]\n",
    "y_hat[[0,1], y]"
   ]
  },
  {
   "cell_type": "code",
   "execution_count": 49,
   "metadata": {},
   "outputs": [
    {
     "data": {
      "text/plain": [
       "tensor([0.3000, 0.2000])"
      ]
     },
     "execution_count": 49,
     "metadata": {},
     "output_type": "execute_result"
    }
   ],
   "source": [
    "y_hat[[0,1], 1]"
   ]
  },
  {
   "cell_type": "code",
   "execution_count": 50,
   "metadata": {},
   "outputs": [
    {
     "data": {
      "text/plain": [
       "tensor([2.3026, 0.6931])"
      ]
     },
     "execution_count": 50,
     "metadata": {},
     "output_type": "execute_result"
    }
   ],
   "source": [
    "\n",
    "# _hat means predictions, y means real value, like label\n",
    "#  range(len(y_hat)) means how many items(rows), y is label\n",
    "# so it will return y_hat predictions for each class\n",
    "# range(len(y_hat)) -> range(row_size_of_y_hat)--> range(2)-> [0,1]\n",
    "# y_hat[[0,2], [0,2]]--> two elements from 2 rows in y_hat, [0,0] and [1,2]\n",
    "\n",
    "def cross_entropy(y_hat, y):\n",
    "    return - torch.log(y_hat[range(len(y_hat)), y])\n",
    "\n",
    "\n",
    "#  this is just calc only 2 requests loss function\n",
    "cross_entropy(y_hat, y)"
   ]
  },
  {
   "cell_type": "code",
   "execution_count": 61,
   "metadata": {},
   "outputs": [
    {
     "data": {
      "text/plain": [
       "tensor([[0.1000, 0.3000, 0.6000],\n",
       "        [0.3000, 0.2000, 0.5000]])"
      ]
     },
     "execution_count": 61,
     "metadata": {},
     "output_type": "execute_result"
    }
   ],
   "source": [
    "y_hat[range(len(y_hat))]"
   ]
  },
  {
   "cell_type": "code",
   "execution_count": 54,
   "metadata": {},
   "outputs": [
    {
     "data": {
      "text/plain": [
       "tensor([0.1000, 0.5000])"
      ]
     },
     "execution_count": 54,
     "metadata": {},
     "output_type": "execute_result"
    }
   ],
   "source": [
    "y_hat[range(len(y_hat)), y]"
   ]
  },
  {
   "cell_type": "code",
   "execution_count": 74,
   "metadata": {},
   "outputs": [
    {
     "data": {
      "text/plain": [
       "(0.5, 1.0)"
      ]
     },
     "execution_count": 74,
     "metadata": {},
     "output_type": "execute_result"
    }
   ],
   "source": [
    "def accuracy(y_hat, y):\n",
    "    if len(y_hat.shape) > 1 and y_hat.shape[1] > 1:\n",
    "        #  torch.tensor([[0.1, 0.3,0.6], [0.3,0.2, 0.5]])\n",
    "        # y_hat.argmax(axis=1) → [2, 2]， real y = [0,2]\n",
    "        y_hat = y_hat.argmax(axis =1)\n",
    "    #  reset y_hat data type to be same as y, and compare each element whether they are the same or not\n",
    "    cmp = y_hat.type(y.dtype) == y\n",
    "    #  this will return 1\n",
    "    return float(cmp.type(y.dtype).sum())\n",
    "\n",
    "\n",
    "\n",
    "accuracy(y_hat, y)/len(y), accuracy(y_hat, y)"
   ]
  },
  {
   "cell_type": "code",
   "execution_count": 63,
   "metadata": {},
   "outputs": [],
   "source": [
    "\n",
    "#  data[0] = 存储正确预测的数量 \n",
    "#  sdata[1] = 预测的总数量\n",
    "class Accumulator:\n",
    "    def __init__(self, n):\n",
    "        \n",
    "        # [0,0] * n --> repeat [0,0] n times, for example\n",
    "        # [0,0] * 2 -> [0,0,0,0]\n",
    "        self.data = [0,0] * n\n",
    "    \n",
    "    def add(self, *args):\n",
    "        #  如果 self.data = [1.0, 2.0, 3.0]，args = (4, 5, 6)，那么：\n",
    "        # zip(self.data, args) ➜ [(1.0, 4), (2.0, 5), (3.0, 6)]\n",
    "        self.data =[a+float(b) for a, b in zip(self.data, args)]\n",
    "    \n",
    "    def reset(self):\n",
    "        self.data = [0.0]* len(self.data)\n",
    "    \n",
    "    def __getitem__(self, idx):\n",
    "        return self.data[idx]\n",
    "    "
   ]
  },
  {
   "cell_type": "code",
   "execution_count": 72,
   "metadata": {},
   "outputs": [],
   "source": [
    "\n",
    "def evaluate_accuracy(net, data_iter):\n",
    "    # here we just call manual softmax one, not pytorch one\n",
    "    if isinstance(net, torch.nn.Module):\n",
    "        net.eval()\n",
    "    metric = Accumulator(2)\n",
    "    with torch.no_grad():\n",
    "        for X, y in data_iter:\n",
    "            # accuracy(net(X), y)--> return one value, [1,0]\n",
    "            metric.add(accuracy(net(X), y), y.numel())\n",
    "    return metric[0]/metric[1]"
   ]
  },
  {
   "cell_type": "code",
   "execution_count": 73,
   "metadata": {},
   "outputs": [
    {
     "data": {
      "text/plain": [
       "0.085"
      ]
     },
     "execution_count": 73,
     "metadata": {},
     "output_type": "execute_result"
    }
   ],
   "source": [
    "evaluate_accuracy(net, test_iter)"
   ]
  }
 ],
 "metadata": {
  "kernelspec": {
   "display_name": "mlenv",
   "language": "python",
   "name": "python3"
  },
  "language_info": {
   "codemirror_mode": {
    "name": "ipython",
    "version": 3
   },
   "file_extension": ".py",
   "mimetype": "text/x-python",
   "name": "python",
   "nbconvert_exporter": "python",
   "pygments_lexer": "ipython3",
   "version": "3.9.23"
  }
 },
 "nbformat": 4,
 "nbformat_minor": 2
}
