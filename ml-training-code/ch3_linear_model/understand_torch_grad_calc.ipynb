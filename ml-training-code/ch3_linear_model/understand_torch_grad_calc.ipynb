{
 "cells": [
  {
   "cell_type": "code",
   "execution_count": 1,
   "metadata": {},
   "outputs": [],
   "source": [
    "import torch"
   ]
  },
  {
   "cell_type": "code",
   "execution_count": 12,
   "metadata": {},
   "outputs": [],
   "source": [
    "X = torch.tensor([[1.0], \n",
    "                  [2.0]])\n",
    "y = torch.tensor([[3.0], [5.0]])\n",
    "\n",
    "w = torch.tensor([[0.5]], requires_grad=True)\n",
    "b = torch.tensor([0.1], requires_grad=True)"
   ]
  },
  {
   "cell_type": "code",
   "execution_count": 13,
   "metadata": {},
   "outputs": [
    {
     "data": {
      "text/plain": [
       "(tensor([[0.6000],\n",
       "         [1.1000]], grad_fn=<AddBackward0>),\n",
       " tensor(10.4850, grad_fn=<SumBackward0>))"
      ]
     },
     "execution_count": 13,
     "metadata": {},
     "output_type": "execute_result"
    }
   ],
   "source": [
    "net = X@w + b\n",
    "y_hat=net\n",
    "l = ((y_hat-y)**2/2).sum()\n",
    "\n",
    "y_hat, l"
   ]
  },
  {
   "cell_type": "code",
   "execution_count": 14,
   "metadata": {},
   "outputs": [
    {
     "data": {
      "text/plain": [
       "(tensor([[-10.2000]]), tensor([-6.3000]))"
      ]
     },
     "execution_count": 14,
     "metadata": {},
     "output_type": "execute_result"
    }
   ],
   "source": [
    "#\n",
    "\n",
    "l.backward()\n",
    "\n",
    "# x = [1.0,2.0]\n",
    "# y_hat=[[0.6], [1.1]], l.sum() = [10.485], y = [[3.0], [5.0]]\n",
    "# dl_sum/dx = 1/2*sum(2*x*(y_hat-y)) = [1.0*[0.6-3.0], 2.0*[1.1-5.0]]=[[-2.4], [-7.8]] = -10.2\n",
    "w.grad, b.grad"
   ]
  }
 ],
 "metadata": {
  "kernelspec": {
   "display_name": "mlenv",
   "language": "python",
   "name": "python3"
  },
  "language_info": {
   "codemirror_mode": {
    "name": "ipython",
    "version": 3
   },
   "file_extension": ".py",
   "mimetype": "text/x-python",
   "name": "python",
   "nbconvert_exporter": "python",
   "pygments_lexer": "ipython3",
   "version": "3.9.23"
  }
 },
 "nbformat": 4,
 "nbformat_minor": 2
}
